{
 "cells": [
  {
   "cell_type": "code",
   "execution_count": 1,
   "metadata": {},
   "outputs": [],
   "source": [
    "import nltk"
   ]
  },
  {
   "cell_type": "code",
   "execution_count": 2,
   "metadata": {},
   "outputs": [
    {
     "name": "stdout",
     "output_type": "stream",
     "text": [
      "The disclosure forms clearly indicate these investments were made by Mr. Paul Pelosi not the Speaker, a spokesman for Speaker Pelosis office told FOX Business in a statement. The letters AP listed under owner indicate the purchases were made by a spouse. https://example.com bro whats up man how are you DOING TODAY DAWG.\n"
     ]
    }
   ],
   "source": [
    "text = \"The disclosure forms clearly indicate these investments were made by Mr. Paul Pelosi not the Speaker, a spokesman for Speaker Pelosis office told FOX Business in a statement. The letters AP listed under owner indicate the purchases were made by a spouse. https://example.com bro whats up man how are you DOING TODAY DAWG.\"\n",
    "print(text)"
   ]
  },
  {
   "cell_type": "code",
   "execution_count": 3,
   "metadata": {},
   "outputs": [
    {
     "name": "stdout",
     "output_type": "stream",
     "text": [
      "the disclosure forms clearly indicate these investments were made by mr. paul pelosi not the speaker, a spokesman for speaker pelosis office told fox business in a statement. the letters ap listed under owner indicate the purchases were made by a spouse. https://example.com bro whats up man how are you doing today dawg.\n"
     ]
    }
   ],
   "source": [
    "text = text.lower()\n",
    "print(text)"
   ]
  },
  {
   "cell_type": "code",
   "execution_count": 4,
   "metadata": {},
   "outputs": [],
   "source": [
    "import string"
   ]
  },
  {
   "cell_type": "code",
   "execution_count": 5,
   "metadata": {},
   "outputs": [
    {
     "data": {
      "text/plain": [
       "'!\"#$%&\\'()*+,-./:;<=>?@[\\\\]^_`{|}~'"
      ]
     },
     "execution_count": 5,
     "metadata": {},
     "output_type": "execute_result"
    }
   ],
   "source": [
    "string.punctuation"
   ]
  },
  {
   "cell_type": "code",
   "execution_count": 6,
   "metadata": {},
   "outputs": [],
   "source": [
    "#\n",
    "# Removing punctuation from string\n",
    "#\n",
    "# text_p = \"\".join([char for char in text if char not in string.punctuation])\n",
    "text_p = \"\".join([ char for char in text if char not in string.punctuation])"
   ]
  },
  {
   "cell_type": "code",
   "execution_count": 7,
   "metadata": {},
   "outputs": [
    {
     "name": "stdout",
     "output_type": "stream",
     "text": [
      "the disclosure forms clearly indicate these investments were made by mr paul pelosi not the speaker a spokesman for speaker pelosis office told fox business in a statement the letters ap listed under owner indicate the purchases were made by a spouse httpsexamplecom bro whats up man how are you doing today dawg\n"
     ]
    }
   ],
   "source": [
    "print(text_p)"
   ]
  },
  {
   "cell_type": "code",
   "execution_count": 8,
   "metadata": {},
   "outputs": [],
   "source": [
    "import re"
   ]
  },
  {
   "cell_type": "code",
   "execution_count": 9,
   "metadata": {},
   "outputs": [
    {
     "name": "stdout",
     "output_type": "stream",
     "text": [
      "the disclosure forms clearly indicate these investments were made by mr. paul pelosi not the speaker, a spokesman for speaker pelosis office told fox business in a statement. the letters ap listed under owner indicate the purchases were made by a spouse.  bro whats up man how are you doing today dawg.\n"
     ]
    }
   ],
   "source": [
    "#\n",
    "# Denoising the text\n",
    "#\n",
    "\n",
    "text_dn = re.sub(r'http\\S+', '', text)\n",
    "print(text_dn)"
   ]
  },
  {
   "cell_type": "code",
   "execution_count": null,
   "metadata": {},
   "outputs": [],
   "source": []
  },
  {
   "cell_type": "code",
   "execution_count": 10,
   "metadata": {},
   "outputs": [
    {
     "name": "stderr",
     "output_type": "stream",
     "text": [
      "[nltk_data] Downloading package punkt to\n",
      "[nltk_data]     /Users/johannpiedras/nltk_data...\n",
      "[nltk_data]   Package punkt is already up-to-date!\n"
     ]
    },
    {
     "data": {
      "text/plain": [
       "True"
      ]
     },
     "execution_count": 10,
     "metadata": {},
     "output_type": "execute_result"
    }
   ],
   "source": [
    "from nltk import word_tokenize\n",
    "nltk.download('punkt')"
   ]
  },
  {
   "cell_type": "code",
   "execution_count": 11,
   "metadata": {},
   "outputs": [],
   "source": [
    "words = word_tokenize(text_dn)"
   ]
  },
  {
   "cell_type": "code",
   "execution_count": 12,
   "metadata": {},
   "outputs": [
    {
     "name": "stdout",
     "output_type": "stream",
     "text": [
      "['the', 'disclosure', 'forms', 'clearly', 'indicate', 'these', 'investments', 'were', 'made', 'by', 'mr.', 'paul', 'pelosi', 'not', 'the', 'speaker', ',', 'a', 'spokesman', 'for', 'speaker', 'pelosis', 'office', 'told', 'fox', 'business', 'in', 'a', 'statement', '.', 'the', 'letters', 'ap', 'listed', 'under', 'owner', 'indicate', 'the', 'purchases', 'were', 'made', 'by', 'a', 'spouse', '.', 'bro', 'whats', 'up', 'man', 'how', 'are', 'you', 'doing', 'today', 'dawg', '.']\n"
     ]
    }
   ],
   "source": [
    "print(words)"
   ]
  },
  {
   "cell_type": "code",
   "execution_count": null,
   "metadata": {},
   "outputs": [],
   "source": []
  },
  {
   "cell_type": "code",
   "execution_count": null,
   "metadata": {},
   "outputs": [],
   "source": []
  },
  {
   "cell_type": "code",
   "execution_count": 13,
   "metadata": {},
   "outputs": [
    {
     "name": "stderr",
     "output_type": "stream",
     "text": [
      "[nltk_data] Downloading package stopwords to\n",
      "[nltk_data]     /Users/johannpiedras/nltk_data...\n",
      "[nltk_data]   Package stopwords is already up-to-date!\n"
     ]
    },
    {
     "data": {
      "text/plain": [
       "True"
      ]
     },
     "execution_count": 13,
     "metadata": {},
     "output_type": "execute_result"
    }
   ],
   "source": [
    "nltk.download('stopwords')"
   ]
  },
  {
   "cell_type": "code",
   "execution_count": 14,
   "metadata": {},
   "outputs": [],
   "source": [
    "from nltk.corpus import stopwords"
   ]
  },
  {
   "cell_type": "code",
   "execution_count": 15,
   "metadata": {},
   "outputs": [],
   "source": [
    "stop_words = stopwords.words('english')"
   ]
  },
  {
   "cell_type": "code",
   "execution_count": 16,
   "metadata": {},
   "outputs": [
    {
     "name": "stdout",
     "output_type": "stream",
     "text": [
      "['i', 'me', 'my', 'myself', 'we', 'our', 'ours', 'ourselves', 'you', \"you're\", \"you've\", \"you'll\", \"you'd\", 'your', 'yours', 'yourself', 'yourselves', 'he', 'him', 'his', 'himself', 'she', \"she's\", 'her', 'hers', 'herself', 'it', \"it's\", 'its', 'itself', 'they', 'them', 'their', 'theirs', 'themselves', 'what', 'which', 'who', 'whom', 'this', 'that', \"that'll\", 'these', 'those', 'am', 'is', 'are', 'was', 'were', 'be', 'been', 'being', 'have', 'has', 'had', 'having', 'do', 'does', 'did', 'doing', 'a', 'an', 'the', 'and', 'but', 'if', 'or', 'because', 'as', 'until', 'while', 'of', 'at', 'by', 'for', 'with', 'about', 'against', 'between', 'into', 'through', 'during', 'before', 'after', 'above', 'below', 'to', 'from', 'up', 'down', 'in', 'out', 'on', 'off', 'over', 'under', 'again', 'further', 'then', 'once', 'here', 'there', 'when', 'where', 'why', 'how', 'all', 'any', 'both', 'each', 'few', 'more', 'most', 'other', 'some', 'such', 'no', 'nor', 'not', 'only', 'own', 'same', 'so', 'than', 'too', 'very', 's', 't', 'can', 'will', 'just', 'don', \"don't\", 'should', \"should've\", 'now', 'd', 'll', 'm', 'o', 're', 've', 'y', 'ain', 'aren', \"aren't\", 'couldn', \"couldn't\", 'didn', \"didn't\", 'doesn', \"doesn't\", 'hadn', \"hadn't\", 'hasn', \"hasn't\", 'haven', \"haven't\", 'isn', \"isn't\", 'ma', 'mightn', \"mightn't\", 'mustn', \"mustn't\", 'needn', \"needn't\", 'shan', \"shan't\", 'shouldn', \"shouldn't\", 'wasn', \"wasn't\", 'weren', \"weren't\", 'won', \"won't\", 'wouldn', \"wouldn't\"]\n"
     ]
    }
   ],
   "source": [
    "print(stop_words)"
   ]
  },
  {
   "cell_type": "code",
   "execution_count": 17,
   "metadata": {},
   "outputs": [],
   "source": [
    "filtered_words = [word for word in words if words not in stop_words]"
   ]
  },
  {
   "cell_type": "code",
   "execution_count": 18,
   "metadata": {},
   "outputs": [
    {
     "name": "stdout",
     "output_type": "stream",
     "text": [
      "['the', 'disclosure', 'forms', 'clearly', 'indicate', 'these', 'investments', 'were', 'made', 'by', 'mr.', 'paul', 'pelosi', 'not', 'the', 'speaker', ',', 'a', 'spokesman', 'for', 'speaker', 'pelosis', 'office', 'told', 'fox', 'business', 'in', 'a', 'statement', '.', 'the', 'letters', 'ap', 'listed', 'under', 'owner', 'indicate', 'the', 'purchases', 'were', 'made', 'by', 'a', 'spouse', '.', 'bro', 'whats', 'up', 'man', 'how', 'are', 'you', 'doing', 'today', 'dawg', '.']\n"
     ]
    }
   ],
   "source": [
    "print(filtered_words)"
   ]
  },
  {
   "cell_type": "code",
   "execution_count": 19,
   "metadata": {},
   "outputs": [],
   "source": [
    "from nltk.stem.porter import PorterStemmer"
   ]
  },
  {
   "cell_type": "code",
   "execution_count": 20,
   "metadata": {},
   "outputs": [],
   "source": [
    "porter = PorterStemmer()"
   ]
  },
  {
   "cell_type": "code",
   "execution_count": 21,
   "metadata": {},
   "outputs": [],
   "source": [
    "stemmed_words = [porter.stem(word) for word in filtered_words]"
   ]
  },
  {
   "cell_type": "code",
   "execution_count": 22,
   "metadata": {},
   "outputs": [
    {
     "name": "stdout",
     "output_type": "stream",
     "text": [
      "['the', 'disclosur', 'form', 'clearli', 'indic', 'these', 'invest', 'were', 'made', 'by', 'mr.', 'paul', 'pelosi', 'not', 'the', 'speaker', ',', 'a', 'spokesman', 'for', 'speaker', 'pelosi', 'offic', 'told', 'fox', 'busi', 'in', 'a', 'statement', '.', 'the', 'letter', 'ap', 'list', 'under', 'owner', 'indic', 'the', 'purchas', 'were', 'made', 'by', 'a', 'spous', '.', 'bro', 'what', 'up', 'man', 'how', 'are', 'you', 'do', 'today', 'dawg', '.']\n"
     ]
    }
   ],
   "source": [
    "print(stemmed_words)"
   ]
  },
  {
   "cell_type": "code",
   "execution_count": 23,
   "metadata": {},
   "outputs": [
    {
     "name": "stderr",
     "output_type": "stream",
     "text": [
      "[nltk_data] Downloading package averaged_perceptron_tagger to\n",
      "[nltk_data]     /Users/johannpiedras/nltk_data...\n",
      "[nltk_data]   Package averaged_perceptron_tagger is already up-to-\n",
      "[nltk_data]       date!\n"
     ]
    },
    {
     "data": {
      "text/plain": [
       "True"
      ]
     },
     "execution_count": 23,
     "metadata": {},
     "output_type": "execute_result"
    }
   ],
   "source": [
    "nltk.download('averaged_perceptron_tagger')"
   ]
  },
  {
   "cell_type": "code",
   "execution_count": 24,
   "metadata": {},
   "outputs": [
    {
     "name": "stdout",
     "output_type": "stream",
     "text": [
      "[('the', 'DT'), ('disclosure', 'NN'), ('forms', 'VBZ'), ('clearly', 'RB'), ('indicate', 'JJ'), ('these', 'DT'), ('investments', 'NNS'), ('were', 'VBD'), ('made', 'VBN'), ('by', 'IN'), ('mr.', 'NN'), ('paul', 'NN'), ('pelosi', 'VBZ'), ('not', 'RB'), ('the', 'DT'), ('speaker', 'NN'), (',', ','), ('a', 'DT'), ('spokesman', 'NN'), ('for', 'IN'), ('speaker', 'NN'), ('pelosis', 'NN'), ('office', 'NN'), ('told', 'VBD'), ('fox', 'NN'), ('business', 'NN'), ('in', 'IN'), ('a', 'DT'), ('statement', 'NN'), ('.', '.'), ('the', 'DT'), ('letters', 'NNS'), ('ap', 'VBP'), ('listed', 'VBN'), ('under', 'IN'), ('owner', 'NN'), ('indicate', 'VBP'), ('the', 'DT'), ('purchases', 'NNS'), ('were', 'VBD'), ('made', 'VBN'), ('by', 'IN'), ('a', 'DT'), ('spouse', 'NN'), ('.', '.'), ('bro', 'NN'), ('whats', 'VBZ'), ('up', 'RP'), ('man', 'NN'), ('how', 'WRB'), ('are', 'VBP'), ('you', 'PRP'), ('doing', 'VBG'), ('today', 'NN'), ('dawg', 'NN'), ('.', '.')]\n"
     ]
    }
   ],
   "source": [
    "from nltk import pos_tag # part of speech if a known etc\n",
    "pos = pos_tag(filtered_words)\n",
    "print(pos)"
   ]
  },
  {
   "cell_type": "code",
   "execution_count": null,
   "metadata": {},
   "outputs": [],
   "source": []
  }
 ],
 "metadata": {
  "kernelspec": {
   "display_name": "Python 3",
   "language": "python",
   "name": "python3"
  },
  "language_info": {
   "codemirror_mode": {
    "name": "ipython",
    "version": 3
   },
   "file_extension": ".py",
   "mimetype": "text/x-python",
   "name": "python",
   "nbconvert_exporter": "python",
   "pygments_lexer": "ipython3",
   "version": "3.7.6"
  }
 },
 "nbformat": 4,
 "nbformat_minor": 4
}
