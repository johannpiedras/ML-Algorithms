{
 "cells": [
  {
   "cell_type": "code",
   "execution_count": null,
   "metadata": {},
   "outputs": [],
   "source": []
  },
  {
   "cell_type": "code",
   "execution_count": 1,
   "metadata": {},
   "outputs": [],
   "source": [
    "import pandas as pd\n",
    "import numpy as np\n",
    "import seaborn as sns \n",
    "import matplotlib.pyplot as plt\n",
    "\n",
    "from scipy.stats import multivariate_normal as mvn\n",
    "# A multivariate normal random variable. Think about a 3 dimensionsal guassian \n",
    "\n",
    "%matplotlib inline"
   ]
  },
  {
   "cell_type": "code",
   "execution_count": 2,
   "metadata": {},
   "outputs": [],
   "source": [
    "class BernNB():\n",
    "    def fit(self, X, y, epsilon = 1e-10):\n",
    "        N, D = X.shape # storing the dimension of the data inputted\n",
    "        self.likelihoods = dict()\n",
    "        self.priors = dict()\n",
    "        \n",
    "        self.K = set(y.astype(int))\n",
    "        \n",
    "        for k in self.K:\n",
    "            X_k = X[y==k,:]\n",
    "            p = (sum(X_k)+1)/(len(X_k)+2)\n",
    "            \n",
    "            self.likelihoods[k] = {'means': p, 'cov':p*(1-p) + epsilon}\n",
    "            \n",
    "            self.priors[k] = len(X_k)/len(X)\n",
    "            \n",
    "            \n",
    "    def predict(self, X):\n",
    "        N, D = X.shape\n",
    "        P_hat = np.zeros((N,len(self.K)))\n",
    "        \n",
    "        for k,l in self.likelihoods.items():\n",
    "            # using the bernoulli function/formula. Tricj is to get the matrices/vectors to go from mxn to a 1x1 number\n",
    "            # for each k value. mapping? Is this the determinant? the dot product?\n",
    "            P_hat[:,k] = np.log(self.priors[k] + np.matmul(X, np.log(l['means'])) + np.matmul((1-X),np.log(abs(1-l['means']))))\n",
    "            \n",
    "        return P_hat.argmax(axis=1)"
   ]
  },
  {
   "cell_type": "code",
   "execution_count": 3,
   "metadata": {},
   "outputs": [],
   "source": [
    "df = pd.read_csv('exNB.csv', header = None)"
   ]
  },
  {
   "cell_type": "code",
   "execution_count": null,
   "metadata": {},
   "outputs": [],
   "source": []
  },
  {
   "cell_type": "code",
   "execution_count": 4,
   "metadata": {},
   "outputs": [],
   "source": [
    "X = df.to_numpy()\n",
    "y=X[:,-1] # storing just the labels\n",
    "X = X[:,:-1] # Dropping the the last column, AKA the labels"
   ]
  },
  {
   "cell_type": "code",
   "execution_count": 5,
   "metadata": {},
   "outputs": [],
   "source": [
    "bnb = BernNB()\n",
    "bnb.fit(X, y) # training the data\n",
    "y_hat = bnb.predict(X) # use X test here"
   ]
  },
  {
   "cell_type": "code",
   "execution_count": null,
   "metadata": {},
   "outputs": [],
   "source": []
  }
 ],
 "metadata": {
  "kernelspec": {
   "display_name": "Python 3",
   "language": "python",
   "name": "python3"
  },
  "language_info": {
   "codemirror_mode": {
    "name": "ipython",
    "version": 3
   },
   "file_extension": ".py",
   "mimetype": "text/x-python",
   "name": "python",
   "nbconvert_exporter": "python",
   "pygments_lexer": "ipython3",
   "version": "3.7.6"
  }
 },
 "nbformat": 4,
 "nbformat_minor": 4
}
