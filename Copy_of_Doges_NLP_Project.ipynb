{
  "nbformat": 4,
  "nbformat_minor": 0,
  "metadata": {
    "colab": {
      "name": "Copy of Doges_NLP_Project.ipynb",
      "provenance": [],
      "collapsed_sections": [],
      "toc_visible": true,
      "include_colab_link": true
    },
    "kernelspec": {
      "name": "python3",
      "display_name": "Python 3"
    },
    "accelerator": "TPU"
  },
  "cells": [
    {
      "cell_type": "markdown",
      "metadata": {
        "id": "view-in-github",
        "colab_type": "text"
      },
      "source": [
        "<a href=\"https://colab.research.google.com/github/johannpiedras/ML-Algorithms/blob/main/Copy_of_Doges_NLP_Project.ipynb\" target=\"_parent\"><img src=\"https://colab.research.google.com/assets/colab-badge.svg\" alt=\"Open In Colab\"/></a>"
      ]
    },
    {
      "cell_type": "markdown",
      "metadata": {
        "id": "X38CEaoeceXf"
      },
      "source": [
        "\n",
        "# Food.com and Twitter Classification"
      ]
    },
    {
      "cell_type": "markdown",
      "metadata": {
        "id": "jGizlzmbdB8J"
      },
      "source": [
        "# Importing Libraries"
      ]
    },
    {
      "cell_type": "code",
      "metadata": {
        "id": "P8nsddf6ZbHc",
        "colab": {
          "base_uri": "https://localhost:8080/"
        },
        "outputId": "d79b231c-da82-49e8-a63e-b90b8aa19de3"
      },
      "source": [
        "## Processing and Visualization\n",
        "import pandas as pd\n",
        "import numpy as np\n",
        "import matplotlib.pyplot as plt\n",
        "from matplotlib.colors import ListedColormap\n",
        "import seaborn as sns\n",
        "import nltk\n",
        "import string\n",
        "import re\n",
        "import os\n",
        "from absl import logging\n",
        "from scipy.stats import multivariate_normal as mvn\n",
        "\n",
        "\n",
        "## Tensorflow \n",
        "import tensorflow_hub as hub\n",
        "\n",
        "## SKLEarn\n",
        "from sklearn.model_selection import train_test_split"
      ],
      "execution_count": null,
      "outputs": [
        {
          "output_type": "stream",
          "text": [
            "[nltk_data] Downloading package stopwords to /root/nltk_data...\n",
            "[nltk_data]   Unzipping corpora/stopwords.zip.\n"
          ],
          "name": "stdout"
        }
      ]
    },
    {
      "cell_type": "code",
      "metadata": {
        "id": "5faSwTx3Lm_P"
      },
      "source": [
        ""
      ],
      "execution_count": null,
      "outputs": []
    },
    {
      "cell_type": "code",
      "metadata": {
        "id": "Sup6zUh_LoJc"
      },
      "source": [
        ""
      ],
      "execution_count": null,
      "outputs": []
    },
    {
      "cell_type": "markdown",
      "metadata": {
        "id": "U0ULbOp56fu_"
      },
      "source": [
        "# Initializing Modeling Definitions"
      ]
    },
    {
      "cell_type": "markdown",
      "metadata": {
        "id": "UsGX2UyV6qo4"
      },
      "source": [
        "### Logistic Regression"
      ]
    },
    {
      "cell_type": "code",
      "metadata": {
        "id": "QGMIHvqw7KEm"
      },
      "source": [
        " def sigmoidLR(h):\r\n",
        "    return 1/(1 + np.exp(-h))\r\n",
        "\r\n",
        "def cross_entropyLR(y, p_hat):\r\n",
        "    return -(1/len(y))*np.sum(y*np.log(p_hat) + (1-y)*np.log(1 - p_hat))\r\n",
        "\r\n",
        "def accuracyLR(y, y_hat):\r\n",
        "    return np.mean(y == y_hat)\r\n",
        "\r\n",
        "class LogisticRegression():\r\n",
        "    def __init__(self, thresh = 0.5):\r\n",
        "        self.thresh = thresh\r\n",
        "        self.w = None\r\n",
        "        self.b = None\r\n",
        "        \r\n",
        "    def fit(self, X, y, eta = 1e-3, epochs = 1e3, show_curve = False):\r\n",
        "        epochs = int(epochs)\r\n",
        "        N, D = X.shape\r\n",
        "        \r\n",
        "        self.w = np.random.randn(D)\r\n",
        "        self.b = np.random.randn(1)\r\n",
        "        \r\n",
        "        J = np.zeros(epochs)\r\n",
        "        \r\n",
        "        for epoch in range(epochs):\r\n",
        "            p_hat = self.__forward(X)\r\n",
        "            J[epoch] = cross_entropyLR(y, p_hat)\r\n",
        "            \r\n",
        "            self.w -= eta*(1/N)*X.T@(p_hat - y)\r\n",
        "            self.b -= eta*(1/N)*np.sum(p_hat - y)\r\n",
        "        \r\n",
        "        if show_curve:\r\n",
        "            plt.figure()\r\n",
        "            plt.plot(J)\r\n",
        "            plt.xlabel(\"epochs\")\r\n",
        "            plt.ylabel(\"$\\mathcal{J}$\")\r\n",
        "            plt.title(\"TrainingCurve\")\r\n",
        "            plt.show()\r\n",
        "            \r\n",
        "    def __forward(self, X):\r\n",
        "        return sigmoidLR(X@self.w + self.b)\r\n",
        "    \r\n",
        "    def predict(self, X):\r\n",
        "        return (self.__forward(X) >= self.thresh).astype(np.int32)\r\n",
        "\r\n",
        "\r\n",
        "#\r\n",
        "# Running Code\r\n",
        "#\r\n",
        "# lr = LogisticRegression() \r\n",
        "# lr.fit(X, y, show_curve = True, epochs = 15000, eta = 0.2)"
      ],
      "execution_count": null,
      "outputs": []
    },
    {
      "cell_type": "markdown",
      "metadata": {
        "id": "mb0F2B5IT4Aj"
      },
      "source": [
        "### K-Means"
      ]
    },
    {
      "cell_type": "code",
      "metadata": {
        "id": "EaxejBVET4Xu"
      },
      "source": [
        "def Responsibility(X, means, beta = 1e-3, *args, **kwargs):\n",
        "  diff = []\n",
        "  responsibilities = []\n",
        "\n",
        "  for mean in means:\n",
        "    diff = X - mean\n",
        "    dist = (np.sum(diff**2, axis = 1, keepdims = True))\n",
        "\n",
        "    numerator = np.exp(-beta*dist)\n",
        "    denominator = np.sum(numerator)\n",
        "\n",
        "    responsibility = -numerator/denominator\n",
        "\n",
        "    responsibilities.append(responsibility)\n",
        "  return np.hstack(responsibilities)\n",
        "\n",
        "def Distance(x, means, *args, **kwargs):\n",
        "  diff = []\n",
        "  dists = []\n",
        "  for mean in means:\n",
        "    diff = x - mean\n",
        "    dist = np.sqrt(np.sum(diff**2, axis = 1, keepdims = True))\n",
        "    dists.append(dist)\n",
        "\n",
        "  return np.hstack(dists)\n",
        "\n",
        "class K_Means:\n",
        "  def __init__(self, k, distance_func = Distance, beta = None):\n",
        "    self.k = k\n",
        "    self.distance_func = distance_func\n",
        "    self.beta = beta\n",
        "\n",
        "  def Fit(self, X, iterations = 5):\n",
        "    indices = np.arange(X.shape[0])\n",
        "    sample_indices = np.random.choice(indices, size = self.k, replace = False)\n",
        "    self.means = X[sample_indices]\n",
        "\n",
        "    for i in range(iterations):\n",
        "      y_hat = self.Predict(X)\n",
        "      self.means = []\n",
        "      for j in range(self.k):\n",
        "        mean = np.mean(X[y_hat == j], axis = 0)\n",
        "        self.means.append(mean)\n",
        "      self.means = np.vstack(self.means)\n",
        "\n",
        "    y_hat = self.Predict(X)\n",
        "    #plt.figure(figsize = (10, 7))\n",
        "    #plt.scatter(X[:, 0], X[:, 1], c = y_hat, s = 1)\n",
        "    #plt.scatter(self.means[:, 0], self.means[:, 1], c = 'k', s = 15)\n",
        "\n",
        "    return y_hat\n",
        "\n",
        "  def Predict(self, X):\n",
        "    dist = self.distance_func(X, self.means, self.beta)\n",
        "    y_hat = np.argmin(dist, axis = 1)\n",
        "\n",
        "    return y_hat\n",
        "\n",
        "\n",
        "# softK=K_Means(5, distance_func= Responsibilty, beta=1.4)\n",
        "# softK.Fit(X, iterations=8)"
      ],
      "execution_count": null,
      "outputs": []
    },
    {
      "cell_type": "markdown",
      "metadata": {
        "id": "fx6J3ote7POC"
      },
      "source": [
        "## Twitter"
      ]
    },
    {
      "cell_type": "code",
      "metadata": {
        "id": "V9va6POmltjH"
      },
      "source": [
        "def twitter_data():\n",
        "\n",
        "  df = pd.read_csv('/data/Ugly_Words_labeled.csv', header=None)\n",
        "\n",
        "  df.columns = ['tweet', 'label','flip']\n",
        "\n",
        "  print(df.label.value_counts())\n",
        "\n",
        "  print(df[df.tweet.isnull()])\n",
        "\n",
        "  df.iloc[342, 1] = 1.0\n",
        "  df.iloc[464, 1] = 0.0\n",
        "  print(df[df.label.isnull()])\n",
        "\n",
        "  df.flip = df.flip.replace(np.nan, 0.0)\n",
        "  print(df.flip.unique())\n",
        "\n",
        "  df.dropna(inplace = True)\n",
        "\n",
        "  print(df.shape)\n",
        "  return df"
      ],
      "execution_count": null,
      "outputs": []
    },
    {
      "cell_type": "code",
      "metadata": {
        "colab": {
          "base_uri": "https://localhost:8080/"
        },
        "id": "C2ew-NpM5_8E",
        "outputId": "4766dd83-dcd5-44da-d31a-e0ef42b7da07"
      },
      "source": [
        "# Defining embedder\r\n",
        "module_url = \"https://tfhub.dev/google/universal-sentence-encoder/4\"\r\n",
        "model = hub.load(module_url)\r\n",
        "print (\"module %s loaded\" % module_url)\r\n",
        "\r\n",
        "def embed(input):\r\n",
        "  return model(input)"
      ],
      "execution_count": null,
      "outputs": [
        {
          "output_type": "stream",
          "text": [
            "module https://tfhub.dev/google/universal-sentence-encoder/4 loaded\n"
          ],
          "name": "stdout"
        }
      ]
    },
    {
      "cell_type": "code",
      "metadata": {
        "id": "EOzahIL65Ftp"
      },
      "source": [
        "def cleaned_tweet(X, y):\r\n",
        "  # Making all the tweets lower case\r\n",
        "  for row in range(X.shape[0]):\r\n",
        "    X.iloc[row] = X.iloc[row].lower()\r\n",
        "  \r\n",
        "  # Remove urls\r\n",
        "  X_http = []\r\n",
        "  for row in X:\r\n",
        "    X_http.append(re.sub(r'http\\S+', '', row))\r\n",
        "\r\n",
        "  # Remove punctuation\r\n",
        "  X0 = []\r\n",
        "  for row in X_http:\r\n",
        "    X0.append(\"\".join([ char for char in row if char not in string.punctuation]))\r\n",
        "  \r\n",
        "  # Splitting data into training/testing\r\n",
        "  train, test = train_test_split(X0, test_size = 0.3, train_size = 0.7, random_state = None, shuffle = False, stratify = None)\r\n",
        "\r\n",
        "  size = int(X.shape[0]*0.7)\r\n",
        "  y_train = y[:size]\r\n",
        "  y_test = y[size:]\r\n",
        "\r\n",
        "  train_embeddings = embed(train)\r\n",
        "  test_embeddings = embed(test)\r\n",
        "\r\n",
        "  X_train = train_embeddings.numpy()\r\n",
        "  X_test = test_embeddings.numpy()\r\n",
        "\r\n",
        "  return X_train, X_test, y_train.to_numpy().astype(int), y_test.to_numpy().astype(int)"
      ],
      "execution_count": null,
      "outputs": []
    },
    {
      "cell_type": "markdown",
      "metadata": {
        "id": "emuzO11F7VnW"
      },
      "source": [
        "## Recipes"
      ]
    },
    {
      "cell_type": "code",
      "metadata": {
        "id": "PPSfQpai7X_g"
      },
      "source": [
        "def recipe_data(X_food, y_food):\r\n",
        "  X1 = embed(X_food['name'].to_numpy())\r\n",
        "  X2 = embed(X_food['ingridents'].to_numpy())\r\n",
        "\r\n",
        "  steps = []\r\n",
        "  for i in range(len(X_food['steps'].to_numpy())):\r\n",
        "    steps.append(str((X_food['steps'].to_numpy())[i]))\r\n",
        "\r\n",
        "  X3 = embed(steps)\r\n",
        "\r\n",
        "  food = np.hstack((X1, X2, X3))\r\n",
        "\r\n",
        "  # Splitting data into training/testing\r\n",
        "  ind = list(range(y_food.shape[0]))  # making a list of the indices for the rows\r\n",
        "  split = int(0.7 * y_food.shape[0])  # getting 80% of the rows\r\n",
        "  np.random.shuffle(ind)  # randomly shuffling the indices\r\n",
        "\r\n",
        "  ind_train = ind[:split]  # taking the first 80% of the random indices of the data\r\n",
        "  ind_test = ind[split:]  # taking the remaining 20% of the indices\r\n",
        "\r\n",
        "  new = X2.numpy()\r\n",
        "  X1_train = new[ind_train]\r\n",
        "  X1_test = new[ind_test]\r\n",
        "\r\n",
        "  #X1_train = food[ind_train]\r\n",
        "  y1_train = y_food[ind_train]\r\n",
        "  #X1_test = food[ind_test]\r\n",
        "  y1_test = y_food[ind_test]\r\n",
        "\r\n",
        "  return X1_train, X1_test, y1_train, y1_test"
      ],
      "execution_count": null,
      "outputs": []
    },
    {
      "cell_type": "markdown",
      "metadata": {
        "id": "lGqHu0KCUZU4"
      },
      "source": [
        "# Data Wrangling"
      ]
    },
    {
      "cell_type": "markdown",
      "metadata": {
        "id": "chG748eFbTL9"
      },
      "source": [
        "## Twitter Data"
      ]
    },
    {
      "cell_type": "code",
      "metadata": {
        "id": "j4RaIpQPUZpI",
        "colab": {
          "base_uri": "https://localhost:8080/"
        },
        "outputId": "350bf0f0-7fc7-4cd1-9026-a0f788109ff1"
      },
      "source": [
        "df = twitter_data()"
      ],
      "execution_count": null,
      "outputs": [
        {
          "output_type": "stream",
          "text": [
            "Mounted at /content/drive\n",
            "0.0    1168\n",
            "1.0     694\n",
            "Name: label, dtype: int64\n",
            "     tweet  label  flip\n",
            "1733   NaN    0.0   NaN\n",
            "Empty DataFrame\n",
            "Columns: [tweet, label, flip]\n",
            "Index: []\n",
            "[0. 1.]\n",
            "(1863, 3)\n"
          ],
          "name": "stdout"
        }
      ]
    },
    {
      "cell_type": "code",
      "metadata": {
        "id": "7LQ35vVYUZsb"
      },
      "source": [
        "# Separating the tweet and labels \n",
        "y = df['label']\n",
        "X = df['tweet']"
      ],
      "execution_count": null,
      "outputs": []
    },
    {
      "cell_type": "code",
      "metadata": {
        "id": "kn2hCielUZ1U",
        "colab": {
          "base_uri": "https://localhost:8080/"
        },
        "outputId": "1f5a2a3d-f5a1-4ecc-9fce-dec2c4578235"
      },
      "source": [
        "X_train, X_test, y_train, y_test = cleaned_tweet(X, y)"
      ],
      "execution_count": null,
      "outputs": [
        {
          "output_type": "stream",
          "text": [
            "/usr/local/lib/python3.6/dist-packages/pandas/core/indexing.py:670: SettingWithCopyWarning: \n",
            "A value is trying to be set on a copy of a slice from a DataFrame\n",
            "\n",
            "See the caveats in the documentation: https://pandas.pydata.org/pandas-docs/stable/user_guide/indexing.html#returning-a-view-versus-a-copy\n",
            "  iloc._setitem_with_indexer(indexer, value)\n"
          ],
          "name": "stderr"
        }
      ]
    },
    {
      "cell_type": "markdown",
      "metadata": {
        "id": "mg68s-MhbXjE"
      },
      "source": [
        "## Recipes Data"
      ]
    },
    {
      "cell_type": "code",
      "metadata": {
        "id": "jh8Pxet0KC7o"
      },
      "source": [
        "data = pd.read_csv('/data/data_recipes.csv')\n",
        "\n",
        "data['rating'] = data.iloc[:,1].replace([0,1,2,3],0, regex = True)\n",
        "data['rating'] = data.iloc[:,1].replace([4,5],1, regex = True)"
      ],
      "execution_count": null,
      "outputs": []
    },
    {
      "cell_type": "code",
      "metadata": {
        "id": "yipbhpr3bnkJ"
      },
      "source": [
        "X_food = data[['name', 'ingridents', 'steps']]\r\n",
        "y_food = data['rating']"
      ],
      "execution_count": null,
      "outputs": []
    },
    {
      "cell_type": "code",
      "metadata": {
        "id": "2kJV9WY58C__"
      },
      "source": [
        "X1_train, X1_test, y1_train, y1_test = recipe_data(X_food, y_food)"
      ],
      "execution_count": null,
      "outputs": []
    },
    {
      "cell_type": "markdown",
      "metadata": {
        "id": "soFi2VanU_qL"
      },
      "source": [
        "# Modeling\n",
        "Here we post main functions of the best models"
      ]
    },
    {
      "cell_type": "markdown",
      "metadata": {
        "id": "Ukrw_0LE6-wb"
      },
      "source": [
        "## Twitter Main"
      ]
    },
    {
      "cell_type": "code",
      "metadata": {
        "colab": {
          "base_uri": "https://localhost:8080/",
          "height": 295
        },
        "id": "zS7jR62J8pjj",
        "outputId": "16ff4873-ffa4-435f-a6e0-b5f9ede68cd2"
      },
      "source": [
        "log_reg = LogisticRegression()\r\n",
        "log_reg.fit(X_train, y_train, eta = 1e-1, epochs = 2e4, show_curve = True)\r\n",
        "y_logreg = log_reg.predict(X_test)"
      ],
      "execution_count": null,
      "outputs": [
        {
          "output_type": "display_data",
          "data": {
            "image/png": "[encoded data removed]",
            "text/plain": [
              "<Figure size 432x288 with 1 Axes>"
            ]
          },
          "metadata": {
            "tags": [],
            "needs_background": "light"
          }
        }
      ]
    },
    {
      "cell_type": "code",
      "metadata": {
        "colab": {
          "base_uri": "https://localhost:8080/",
          "height": 838
        },
        "id": "nYFWfp648-bL",
        "outputId": "05bc47a3-77c9-49cf-d7c1-ddfb959aaee1"
      },
      "source": [
        "softK = K_Means(2, distance_func = Responsibility, beta = 1.4)\r\n",
        "softK.Fit(X_train, iterations = 8)\r\n",
        "\r\n",
        "y_km_train = softK.Predict(X_train)\r\n",
        "y_km_test = softK.Predict(X_test)\r\n",
        "\r\n",
        "log_reg1 = LogisticRegression()\r\n",
        "log_reg1.fit(X_train, y_km_train, eta = 1e-1, epochs = 2e4, show_curve = True)\r\n",
        "y_logreg1 = log_reg1.predict(X_test)\r\n"
      ],
      "execution_count": null,
      "outputs": [
        {
          "output_type": "display_data",
          "data": {
            "image/png": "[encoded data removed]",
            "text/plain": [
              "<Figure size 432x288 with 1 Axes>"
            ]
          },
          "metadata": {
            "tags": [],
            "needs_background": "light"
          }
        },
        {
          "output_type": "stream",
          "text": [
            "---------------------------------\n",
            "Accuracy : 0.941\n",
            "Precision:  0.9051987767584098\n",
            "Recall:  0.9932885906040269\n",
            "F1 - Score:  0.9471999999999999\n",
            "---------------------------------\n",
            "Positives:  296\n",
            "Negative:  230\n",
            "False Positives:  31\n",
            "False Negatives:  2\n",
            "---------------------------------\n"
          ],
          "name": "stdout"
        },
        {
          "output_type": "display_data",
          "data": {
            "image/png": "[encoded data removed]",
            "text/plain": [
              "<Figure size 1080x360 with 2 Axes>"
            ]
          },
          "metadata": {
            "tags": [],
            "needs_background": "light"
          }
        }
      ]
    },
    {
      "cell_type": "code",
      "metadata": {
        "colab": {
          "base_uri": "https://localhost:8080/",
          "height": 295
        },
        "id": "Jhd0pzBc-iNm",
        "outputId": "579343cf-36f9-4f40-9b6d-07d7a65e860d"
      },
      "source": [
        "log_reg2 = LogisticRegression()\r\n",
        "log_reg2.fit(X1_train, y1_train, eta = 1e-1, epochs = 2e3, show_curve = True)\r\n",
        "y_logreg2 = log_reg2.predict(X1_test)"
      ],
      "execution_count": null,
      "outputs": [
        {
          "output_type": "display_data",
          "data": {
            "image/png": "[encoded data removed]",
            "text/plain": [
              "<Figure size 432x288 with 1 Axes>"
            ]
          },
          "metadata": {
            "tags": [],
            "needs_background": "light"
          }
        }
      ]
    },
    {
      "cell_type": "code",
      "metadata": {
        "id": "13RIdkF9-yp_"
      },
      "source": [
        "softK1 = K_Means(2, distance_func = Responsibility, beta = 1.4)\r\n",
        "softK1.Fit(X1_train, iterations = 8)\r\n",
        "\r\n",
        "y1_km_train = softK1.Predict(X1_train)\r\n",
        "y1_km_test = softK1.Predict(X1_test)"
      ],
      "execution_count": null,
      "outputs": []
    },
    {
      "cell_type": "code",
      "metadata": {
        "colab": {
          "base_uri": "https://localhost:8080/",
          "height": 295
        },
        "id": "9eccu0Q0-2I8",
        "outputId": "e27b58a3-db73-47cd-8ea3-c738bb5630cd"
      },
      "source": [
        "# Logistic Regression with KMeans Labels\r\n",
        "log_reg3 = LogisticRegression()\r\n",
        "log_reg3.fit(X1_train, y1_km_train, eta = 1e-1, epochs = 2e3, show_curve = True)\r\n",
        "y_logreg3 = log_reg3.predict(X1_test)"
      ],
      "execution_count": null,
      "outputs": [
        {
          "output_type": "display_data",
          "data": {
            "image/png": "[encoded data removed]",
            "text/plain": [
              "<Figure size 432x288 with 1 Axes>"
            ]
          },
          "metadata": {
            "tags": [],
            "needs_background": "light"
          }
        }
      ]
    },
    {
      "cell_type": "markdown",
      "metadata": {
        "id": "_7dbZO5jACGI"
      },
      "source": [
        "## Twitter"
      ]
    },
    {
      "cell_type": "code",
      "metadata": {
        "id": "HnrbO93fQwAn"
      },
      "source": [
        "def tweet_demo(sentence):\r\n",
        "  X_sent = embed(sentence)\r\n",
        "  print(log_reg.predict(X_sent.numpy()))"
      ],
      "execution_count": null,
      "outputs": []
    },
    {
      "cell_type": "code",
      "metadata": {
        "id": "5ionx9mKAJDR",
        "colab": {
          "base_uri": "https://localhost:8080/"
        },
        "outputId": "6e9bf930-3281-407f-abc1-e7c16bfbe0f9"
      },
      "source": [
        "tweet_demo([\"Doge coin price went up by 50% - theguardian.com\"])"
      ],
      "execution_count": null,
      "outputs": [
        {
          "output_type": "stream",
          "text": [
            "[1]\n"
          ],
          "name": "stdout"
        }
      ]
    },
    {
      "cell_type": "code",
      "metadata": {
        "id": "ajT3VXTOALvJ"
      },
      "source": [
        "def km_tweet_demo(sentence):\r\n",
        "  X_sent = embed(sentence)\r\n",
        "  print(log_reg1.predict(X_sent.numpy()))"
      ],
      "execution_count": null,
      "outputs": []
    },
    {
      "cell_type": "code",
      "metadata": {
        "id": "QaH8kgqjAQ6Z",
        "colab": {
          "base_uri": "https://localhost:8080/"
        },
        "outputId": "46e391fe-71b3-41df-de83-7d0dfa72df18"
      },
      "source": [
        "sentence = [\"Doge coin price went up by 50% - theguardian.com\"]\r\n",
        "#sentence = [\"Wow, doge coin stock price just went up. Thank god for reddit\"]\r\n",
        "\r\n",
        "km_tweet_demo(sentence)"
      ],
      "execution_count": null,
      "outputs": [
        {
          "output_type": "stream",
          "text": [
            "[1]\n"
          ],
          "name": "stdout"
        }
      ]
    },
    {
      "cell_type": "markdown",
      "metadata": {
        "id": "LFxh6GHiAT9c"
      },
      "source": [
        "## Recipes"
      ]
    },
    {
      "cell_type": "code",
      "metadata": {
        "id": "-BnmkXFIATK7"
      },
      "source": [
        "def food_demo(sentence):\r\n",
        "  X_sent = embed(sentence)\r\n",
        "  print(log_reg2.predict(X_sent.numpy()))"
      ],
      "execution_count": null,
      "outputs": []
    },
    {
      "cell_type": "code",
      "metadata": {
        "id": "gNgrm6yOAb7d",
        "colab": {
          "base_uri": "https://localhost:8080/"
        },
        "outputId": "1352b92b-e460-46b3-c156-4367a9b78e98"
      },
      "source": [
        "sentence = [\"tortilla beef jalapenos salt pepper cheese vegetable oil\"]\r\n",
        "sentence2 = [\"expired cheese chicken liver fish oil ginger garlic paste\"]\r\n",
        "\r\n",
        "food_demo(sentence)\r\n",
        "food_demo(sentence2)"
      ],
      "execution_count": null,
      "outputs": [
        {
          "output_type": "stream",
          "text": [
            "[1]\n",
            "[0]\n"
          ],
          "name": "stdout"
        }
      ]
    },
    {
      "cell_type": "code",
      "metadata": {
        "id": "PWVB70_YAd_y"
      },
      "source": [
        "def km_food_demo(sentence):\r\n",
        "  X_sent = embed(sentence)\r\n",
        "  print(log_reg3.predict(X_sent.numpy()))"
      ],
      "execution_count": null,
      "outputs": []
    },
    {
      "cell_type": "code",
      "metadata": {
        "id": "AiQaINjlAgLu",
        "colab": {
          "base_uri": "https://localhost:8080/"
        },
        "outputId": "c7405bb0-a352-45c2-c0e7-547cbcbbcbdb"
      },
      "source": [
        "km_food_demo(sentence)\r\n",
        "km_food_demo([\"dead body\"])\r\n",
        "# IMPORTANT NOTE: KMeans might reverse the meaning of 0 & 1"
      ],
      "execution_count": null,
      "outputs": [
        {
          "output_type": "stream",
          "text": [
            "[1]\n",
            "[1]\n"
          ],
          "name": "stdout"
        }
      ]
    },
    {
      "cell_type": "code",
      "metadata": {
        "id": "nXN0GvvhfWb2"
      },
      "source": [
        ""
      ],
      "execution_count": null,
      "outputs": []
    }
  ]
}