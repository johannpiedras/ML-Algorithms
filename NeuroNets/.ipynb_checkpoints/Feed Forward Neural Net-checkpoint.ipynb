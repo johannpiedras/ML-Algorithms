{
 "cells": [
  {
   "cell_type": "code",
   "execution_count": 1,
   "metadata": {
    "id": "1vRt-qaYVY20"
   },
   "outputs": [],
   "source": [
    "import numpy as np\n",
    "import pandas as pd\n",
    "import matplotlib.pyplot as plt\n",
    "\n",
    "from matplotlib.colors import ListedColormap\n",
    "%matplotlib inline"
   ]
  },
  {
   "cell_type": "code",
   "execution_count": 13,
   "metadata": {},
   "outputs": [],
   "source": [
    "cmap_bold = ListedColormap([\"#FF0000\", '#00FF00',\"#0000FF\"])\n",
    "cmap_light = ListedColormap(['#FFBBBB', '#BBFFBB','#BBBBFF'])"
   ]
  },
  {
   "cell_type": "markdown",
   "metadata": {
    "id": "80uy_Nt7WD-T"
   },
   "source": [
    "Look into softmax. <br>\n",
    "Oppose to sigmoid, it allows multiple dimensions <br>\n",
    "Write down the formula, shape of the curve is in muli dimensions. <br>\n",
    "The multiple dimensionsare actually just multiple classes"
   ]
  },
  {
   "cell_type": "markdown",
   "metadata": {},
   "source": [
    "## Activation And Helper Functions"
   ]
  },
  {
   "cell_type": "code",
   "execution_count": 14,
   "metadata": {},
   "outputs": [],
   "source": [
    "def linear(H):\n",
    "    return H\n",
    "\n",
    "def ReLU(H):\n",
    "    return H*(H>0) # This boolean 1 or 0\n",
    "\n",
    "def softmax(H):\n",
    "    eH = np.exp(H)\n",
    "    return eH/eH.sum(axis = 1, keepdims = True)\n",
    "\n",
    "def cross_entropy(Y, P_hat):\n",
    "    return -np.sum(Y*np.log(P_hat))\n",
    "\n",
    "\n",
    "def one_hot_encode(y):\n",
    "    N = len(y)\n",
    "    K = len(set(y))\n",
    "    Y = np.zeros((N,K))\n",
    "    \n",
    "    for i in range(N):\n",
    "        Y[i,y[i]] = 1\n",
    "        \n",
    "    return Y\n",
    "\n",
    "def accuracy(y,y_hat):\n",
    "    return np.mean(y == y_hat)\n",
    "\n",
    "def OLS(Y,Y_hat):\n",
    "    return (1/(2*len(Y)))*np.sum((Y-Y_hat)**2)\n",
    "\n",
    "def R2(y,y_hat):\n",
    "    return sqrt((y-yhat)^2)\n",
    "    "
   ]
  },
  {
   "cell_type": "code",
   "execution_count": 15,
   "metadata": {},
   "outputs": [],
   "source": [
    "class ANN(): # artifical nuero network, epochs is how many cycles for gradient descent, \n",
    "    def __init__(self, mode= 0):\n",
    "        self.mode= mode\n",
    "    \n",
    "    def fit(self, X,y,neurons= 10, eta = 1e-3, epochs = 1e3, show_curve = False): # single hidden lay neuro network\n",
    "        epochs = int(epochs)\n",
    "        Y = one_hot_encode(y)\n",
    "        \n",
    "        N,D = X.shape\n",
    "        K = Y.shape[1]\n",
    "        \n",
    "        self.W = {l: np.random.randn( M[0],M[1]) for l,M in enumerate(zip([D,neurons],[neurons,K]),1)}\n",
    "        self.b = {l: np.random.randn(M) for l,M in enumerate([neurons,K],1)}\n",
    "        \n",
    "        if self.mode: # if self.mode true , used to decide wether to use regression or classification\n",
    "            self.a = {1:np.tanh, 2:linear}\n",
    "        \n",
    "        else: # if self.mode false\n",
    "            self.a = {1:np.tanh, 2:softmax}\n",
    "        \n",
    "        J = np.zeros(epochs)\n",
    "        \n",
    "        for epoch in range(epochs):\n",
    "            self.forward(X)\n",
    "            \n",
    "            if self.mode:\n",
    "                J[epoch] = OLS(Y,self.Z[2])\n",
    "                \n",
    "            else:\n",
    "                J[epoch] = cross_entropy(Y, self.Z[2])\n",
    "            \n",
    "            #  [1] or [2] are dictionary reference, Z is the hidden layer\n",
    "            # z is the result from the calculation of the first layer, z2 is the result of the sevond layer\n",
    "            self.W[2] -= eta*(1/N)*self.Z[1].T@(self.Z[2]-Y) \n",
    "            self.b[2] -= eta*(1/N)*(self.Z[2]-Y).sum(axis = 0)\n",
    "            #\n",
    "            #\n",
    "            self.W[1] -= eta*(1/N)*X.T@((self.Z[2]-Y)@self.W[2].T*(1-self.Z[1]**2))\n",
    "            self.b[1] -= eta*(1/N)*((self.Z[2]-Y)@self.W[2].T*(1-self.Z[1]**2)).sum(axis=0)\n",
    "            #\n",
    "            #\n",
    "            \n",
    "        if show_curve:\n",
    "            plt.figure()\n",
    "            plt.plot(J)\n",
    "            plt.xlabel('epochs')\n",
    "            plt.ylabel('$\\mathcal{J}$ objective function')\n",
    "            plt.title('Training Curve')\n",
    "            plt.show()\n",
    "\n",
    "    def forward(self, X):# will be doing the assigning \n",
    "        self.Z = {0:X}\n",
    "        \n",
    "        for l in sorted(self.W.keys()):\n",
    "            self.Z[l] = self.a[l](self.Z[l-1]@self.W[l] + self.b[l])\n",
    "    \n",
    "    def predict(self,X):\n",
    "        self.forward(X)\n",
    "        \n",
    "        if  self.mode:\n",
    "            return self.Z[2]\n",
    "        else: \n",
    "            return self.Z[2].argmax(axis = 1)"
   ]
  },
  {
   "cell_type": "code",
   "execution_count": 16,
   "metadata": {},
   "outputs": [
    {
     "data": {
      "text/plain": [
       "{'0': 4, '1': 5, '2': 6, '3': 7}"
      ]
     },
     "execution_count": 16,
     "metadata": {},
     "output_type": "execute_result"
    }
   ],
   "source": [
    "{str(i):j for i,j in zip(range(4), range(4,8))}"
   ]
  },
  {
   "cell_type": "code",
   "execution_count": null,
   "metadata": {},
   "outputs": [],
   "source": [
    "\n",
    "\n",
    "\n"
   ]
  },
  {
   "cell_type": "code",
   "execution_count": 19,
   "metadata": {},
   "outputs": [],
   "source": [
    "def main():\n",
    "    D = 2\n",
    "    K = 3\n",
    "    N = int(K*1e3)\n",
    "    \n",
    "    #data = pd.read_csv('TrippleGauss.csv',header = 0)\n",
    "    \n",
    "    X0 = np.random.randn((N//K),D) + np.array([2, 2])\n",
    "    X1 = np.random.randn((N//K),D) + np.array([0, -2])\n",
    "    X2 = np.random.randn((N//K),D) + np.array([-2, 2])\n",
    "    X = np.vstack((X0, X1,X2))\n",
    "\n",
    "    y = np.array([0]*(N//K) + [1]*(N//K) + [2]*(N//K))\n",
    "    #X = data.to_numpy()\n",
    "\n",
    "    #y = data['2'].to_numpy()\n",
    "    #X = data[['0','1']].to_numpy()\n",
    "    \n",
    "    \n",
    "    model = ANN()\n",
    "    model.fit(X,y, neurons = 20, eta = 3e-2, epochs = 2e3, show_curve= True)\n",
    "    y_hat = model.predict(X)\n",
    "    \n",
    "    print(f\"Training Accuracy: {accuracy(y, y_hat):0.4f}\")\n",
    "    \n",
    "    x1 = np.linspace(X[:,0].min() - 1, X[:,0].max(), 1000)\n",
    "    x2 = np.linspace(X[:,1].min() - 1, X[:,1].max(), 1000)\n",
    "    \n",
    "    xx1,xx2 = np.meshgrid(x1,x2)\n",
    "    \n",
    "    Z = model.predict(np.c_[xx1.ravel(), xx2.ravel()]).reshape(*xx1.shape)\n",
    "    \n",
    "    plt.figure()\n",
    "    plt.scatter(X[:,0],X[:,1],c=y, cmap=cmap_bold)\n",
    "    plt.title('Data')\n",
    "    \n",
    "    plt.figure()\n",
    "    plt.scatter(X[:,0],X[:,1],c=y_hat, cmap=cmap_bold, alpha = .8)\n",
    "    plt.title('Prediction')\n",
    "    plt.pcolormesh(xx1,xx2,Z,cmap=cmap_light)# could use for 4d data... \n",
    "    \n",
    "    \n",
    "    "
   ]
  },
  {
   "cell_type": "code",
   "execution_count": 20,
   "metadata": {},
   "outputs": [
    {
     "data": {
      "image/png": "[encoded data removed]",
      "text/plain": [
       "<Figure size 432x288 with 1 Axes>"
      ]
     },
     "metadata": {
      "needs_background": "light"
     },
     "output_type": "display_data"
    },
    {
     "name": "stdout",
     "output_type": "stream",
     "text": [
      "Training Accuracy: 0.9737\n"
     ]
    },
    {
     "data": {
      "image/png": "[encoded data removed]",
      "text/plain": [
       "<Figure size 432x288 with 1 Axes>"
      ]
     },
     "metadata": {
      "needs_background": "light"
     },
     "output_type": "display_data"
    },
    {
     "data": {
      "image/png": "[encoded data removed]",
      "text/plain": [
       "<Figure size 432x288 with 1 Axes>"
      ]
     },
     "metadata": {
      "needs_background": "light"
     },
     "output_type": "display_data"
    }
   ],
   "source": [
    "if __name__ =='__main__':\n",
    "    main()"
   ]
  },
  {
   "cell_type": "code",
   "execution_count": null,
   "metadata": {},
   "outputs": [],
   "source": []
  },
  {
   "cell_type": "code",
   "execution_count": null,
   "metadata": {},
   "outputs": [],
   "source": []
  }
 ],
 "metadata": {
  "colab": {
   "name": "Multinomial Logistic Regression.ipynb",
   "provenance": []
  },
  "kernelspec": {
   "display_name": "Python 3",
   "language": "python",
   "name": "python3"
  },
  "language_info": {
   "codemirror_mode": {
    "name": "ipython",
    "version": 3
   },
   "file_extension": ".py",
   "mimetype": "text/x-python",
   "name": "python",
   "nbconvert_exporter": "python",
   "pygments_lexer": "ipython3",
   "version": "3.7.6"
  }
 },
 "nbformat": 4,
 "nbformat_minor": 4
}
